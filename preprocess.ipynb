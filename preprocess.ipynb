{
 "cells": [
  {
   "cell_type": "code",
   "execution_count": 1,
   "id": "f51e48aa",
   "metadata": {},
   "outputs": [],
   "source": [
    "import numpy as np\n",
    "import pandas as pd\n",
    "import os\n",
    "from glob import glob\n",
    "from tqdm import tqdm\n"
   ]
  },
  {
   "cell_type": "code",
   "execution_count": 2,
   "id": "1660b578",
   "metadata": {},
   "outputs": [],
   "source": [
    "# df = pd.read_csv('data/ner_dataset.csv', encoding='latin-1')\n",
    "# df = df.rename(columns={'Sentence #': 'sentID'})\n",
    "# df['sentID'].fillna(method='ffill', inplace=True)\n",
    "# df.head()"
   ]
  },
  {
   "cell_type": "code",
   "execution_count": 47,
   "id": "5ed8a361",
   "metadata": {},
   "outputs": [
    {
     "name": "stdout",
     "output_type": "stream",
     "text": [
      "257247\n",
      "{'data/NER-2021/NER/NER-Data-Muc-CONLL/0_dev_thethao_0006.conll', 'data/NER-2021/NER/NER-Data-Muc-CONLL/doisong_0005.conll', 'data/NER-2021/NER/NER-Data-Muc-CONLL/giaitri_0020.conll', 'data/NER-2021/NER/NER-Data-Muc-CONLL/thegioi_0075.conll'}\n"
     ]
    }
   ],
   "source": [
    "CONLL_dir = 'data/NER-2021/NER/NER-Data-Muc-CONLL'\n",
    "all_data = []\n",
    "wrong_fn = []\n",
    "sentence_id = 0\n",
    "\n",
    "for fn in glob(f'{CONLL_dir}/*.conll'):\n",
    "    f = open(fn, 'r')\n",
    "    lines = f.readlines()\n",
    "    for line in lines:\n",
    "        line = line.strip()\n",
    "        if line:\n",
    "            data = line.split()\n",
    "            try:\n",
    "                all_data.append({\n",
    "                    'sentID': sentence_id,\n",
    "                    'Word': data[0],\n",
    "                    'Tag': data[3],\n",
    "                    'filename': fn.split('/')[-1],\n",
    "                    'covid_data': False\n",
    "                })\n",
    "            except:\n",
    "                wrong_fn.append(fn)\n",
    "        else:\n",
    "            sentence_id += 1\n",
    "            \n",
    "\n",
    "print(len(all_data))\n",
    "print(set(wrong_fn))"
   ]
  },
  {
   "cell_type": "code",
   "execution_count": 48,
   "id": "9dd1ff7e",
   "metadata": {
    "scrolled": true
   },
   "outputs": [
    {
     "data": {
      "text/html": [
       "<div>\n",
       "<style scoped>\n",
       "    .dataframe tbody tr th:only-of-type {\n",
       "        vertical-align: middle;\n",
       "    }\n",
       "\n",
       "    .dataframe tbody tr th {\n",
       "        vertical-align: top;\n",
       "    }\n",
       "\n",
       "    .dataframe thead th {\n",
       "        text-align: right;\n",
       "    }\n",
       "</style>\n",
       "<table border=\"1\" class=\"dataframe\">\n",
       "  <thead>\n",
       "    <tr style=\"text-align: right;\">\n",
       "      <th></th>\n",
       "      <th>sentID</th>\n",
       "      <th>Word</th>\n",
       "      <th>Tag</th>\n",
       "      <th>filename</th>\n",
       "      <th>covid_data</th>\n",
       "    </tr>\n",
       "  </thead>\n",
       "  <tbody>\n",
       "    <tr>\n",
       "      <th>0</th>\n",
       "      <td>0</td>\n",
       "      <td>Cội</td>\n",
       "      <td>O</td>\n",
       "      <td>thegioi_0029.conll</td>\n",
       "      <td>False</td>\n",
       "    </tr>\n",
       "    <tr>\n",
       "      <th>1</th>\n",
       "      <td>0</td>\n",
       "      <td>nguồn</td>\n",
       "      <td>O</td>\n",
       "      <td>thegioi_0029.conll</td>\n",
       "      <td>False</td>\n",
       "    </tr>\n",
       "    <tr>\n",
       "      <th>2</th>\n",
       "      <td>0</td>\n",
       "      <td>thảm</td>\n",
       "      <td>O</td>\n",
       "      <td>thegioi_0029.conll</td>\n",
       "      <td>False</td>\n",
       "    </tr>\n",
       "    <tr>\n",
       "      <th>3</th>\n",
       "      <td>0</td>\n",
       "      <td>kịch</td>\n",
       "      <td>O</td>\n",
       "      <td>thegioi_0029.conll</td>\n",
       "      <td>False</td>\n",
       "    </tr>\n",
       "    <tr>\n",
       "      <th>4</th>\n",
       "      <td>0</td>\n",
       "      <td>Rohingya</td>\n",
       "      <td>O</td>\n",
       "      <td>thegioi_0029.conll</td>\n",
       "      <td>False</td>\n",
       "    </tr>\n",
       "  </tbody>\n",
       "</table>\n",
       "</div>"
      ],
      "text/plain": [
       "   sentID      Word Tag            filename  covid_data\n",
       "0       0       Cội   O  thegioi_0029.conll       False\n",
       "1       0     nguồn   O  thegioi_0029.conll       False\n",
       "2       0      thảm   O  thegioi_0029.conll       False\n",
       "3       0      kịch   O  thegioi_0029.conll       False\n",
       "4       0  Rohingya   O  thegioi_0029.conll       False"
      ]
     },
     "execution_count": 48,
     "metadata": {},
     "output_type": "execute_result"
    }
   ],
   "source": [
    "df = pd.DataFrame(all_data)\n",
    "df.head()"
   ]
  },
  {
   "cell_type": "code",
   "execution_count": 49,
   "id": "8a9c696c",
   "metadata": {},
   "outputs": [
    {
     "name": "stdout",
     "output_type": "stream",
     "text": [
      "['O' 'B-LOCATION' 'B-ORGANIZATION' 'I-ORGANIZATION' 'I-LOCATION'\n",
      " 'B-PERSONTYPE' 'I-PERSONTYPE' 'B-DATETIME' 'B-MISCELLANEOUS'\n",
      " 'I-MISCELLANEOUS' 'B-QUANTITY' 'I-QUANTITY' 'B-EVENT' 'I-EVENT'\n",
      " 'B-PERSON' 'I-PERSON' 'B-LOCATION-GPE' 'I-LOCATION-GPE' 'B-DATETIME-DATE'\n",
      " 'I-DATETIME-DATE' 'B-DATETIME-DURATION' 'I-DATETIME-DURATION'\n",
      " 'B-QUANTITY-NUM' 'B-DATETIME-TIME' 'I-DATETIME-TIME' 'B-PRODUCT'\n",
      " 'I-PRODUCT' 'B-QUANTITY-TEM' 'I-QUANTITY-TEM' 'B-QUANTITY-ORD'\n",
      " 'I-QUANTITY-ORD' 'B-PRODUCT-COM' 'B-EVENT-SPORT' 'I-EVENT-SPORT'\n",
      " 'B-QUANTITY-DIM' 'I-DATETIME' 'B-ORGANIZATION-SPORTS'\n",
      " 'I-ORGANIZATION-SPORTS' 'B-LOCATION-STRUC' 'I-LOCATION-STRUC'\n",
      " 'I-QUANTITY-NUM' 'B-QUANTITY-AGE' 'I-QUANTITY-AGE' 'B-*' 'I-*'\n",
      " 'B-QUANTITY-PER' 'I-QUANTITY-PER' 'B-DATETIME-TIMERANGE'\n",
      " 'I-DATETIME-TIMERANGE' 'B-EVENT-GAMESHOW' 'I-EVENT-GAMESHOW' 'B-URL'\n",
      " 'B-LOCATION-GEO' 'I-LOCATION-GEO' 'I-QUANTITY-DIM' 'B-EVENT-NATURAL'\n",
      " 'I-EVENT-NATURAL' 'B-QUANTITY-CUR' 'I-QUANTITY-CUR' 'B-SKILL' 'I-SKILL'\n",
      " 'B-DATETIME-SET' 'I-DATETIME-SET' 'B-DATETIME-DATERANGE'\n",
      " 'I-DATETIME-DATERANGE' 'B-PHONENUMBER' 'I-PHONENUMBER' 'B-EMAIL'\n",
      " 'I-EMAIL' 'I-PRODUCT-COM' 'B-ADDRESS' 'I-ADDRESS' 'B-PRODUCT-AWARD'\n",
      " 'I-PRODUCT-AWARD' 'B-PRODUCT-LEGAL' 'I-PRODUCT-LEGAL' 'B-EVENT-CUL'\n",
      " 'I-EVENT-CUL' 'B-ORGANIZATION-MED' 'I-ORGANIZATION-MED' 'I-URL'\n",
      " 'B-ORGANIZATION-STOCK']\n"
     ]
    }
   ],
   "source": [
    "print(df['Tag'].unique())"
   ]
  },
  {
   "cell_type": "code",
   "execution_count": 50,
   "id": "a90f27d7",
   "metadata": {},
   "outputs": [],
   "source": [
    "df.to_csv('data/NER_VLSP_2021.csv')"
   ]
  },
  {
   "cell_type": "markdown",
   "id": "c95ba06e",
   "metadata": {},
   "source": [
    "## Vin Covid dataset"
   ]
  },
  {
   "cell_type": "code",
   "execution_count": 51,
   "id": "bc3fb662",
   "metadata": {
    "scrolled": true
   },
   "outputs": [
    {
     "name": "stdout",
     "output_type": "stream",
     "text": [
      "85678\n",
      "set()\n",
      "data/covid_test_word.csv\n",
      "218189\n",
      "set()\n",
      "data/covid_train_word.csv\n",
      "274472\n",
      "set()\n",
      "data/covid_dev_word.csv\n"
     ]
    }
   ],
   "source": [
    "CONLL_dir = 'data/PhoNER_COVID19/data/word'\n",
    "all_data = []\n",
    "wrong_fn = []\n",
    "sentence_id = 0\n",
    "\n",
    "for fn in glob(f'{CONLL_dir}/*.conll'):\n",
    "    f = open(fn, 'r')\n",
    "    lines = f.readlines()\n",
    "    for line in lines:\n",
    "        line = line.strip()\n",
    "        if line:\n",
    "            data = line.split()\n",
    "            try:\n",
    "                all_data.append({\n",
    "                    'sentID': sentence_id,\n",
    "                    'Word': data[0],\n",
    "                    'Tag': data[1],\n",
    "                    'filename': fn.split('/')[-1],\n",
    "                    'covid_data': True\n",
    "                })\n",
    "            except:\n",
    "                wrong_fn.append(fn)\n",
    "        else:\n",
    "            sentence_id += 1\n",
    "            \n",
    "    print(len(all_data))\n",
    "    print(set(wrong_fn))\n",
    "    df = pd.DataFrame(all_data)\n",
    "    csv_name = 'data/covid_{}.csv'.format(os.path.basename(fn).split('.')[0])\n",
    "    print(csv_name)\n",
    "    df.to_csv(csv_name)    "
   ]
  },
  {
   "cell_type": "markdown",
   "id": "d691eb55",
   "metadata": {},
   "source": [
    "## Merge VLSP 2021 dataset and Vin Covid Dataset"
   ]
  },
  {
   "cell_type": "code",
   "execution_count": 53,
   "id": "665da223",
   "metadata": {},
   "outputs": [],
   "source": [
    "vlsp_train = pd.read_csv('data/NER_VLSP_2021.csv', index_col=0)\n",
    "vin_train = pd.read_csv('data/covid_train_word.csv', index_col=0)\n",
    "merge_train_df = pd.merge(vlsp_train, vin_train, how='outer')\n",
    "merge_train_df.to_csv('data/merge_vlsp_CovidVin.csv')"
   ]
  },
  {
   "cell_type": "code",
   "execution_count": 46,
   "id": "6042e395",
   "metadata": {},
   "outputs": [
    {
     "data": {
      "text/html": [
       "<div>\n",
       "<style scoped>\n",
       "    .dataframe tbody tr th:only-of-type {\n",
       "        vertical-align: middle;\n",
       "    }\n",
       "\n",
       "    .dataframe tbody tr th {\n",
       "        vertical-align: top;\n",
       "    }\n",
       "\n",
       "    .dataframe thead th {\n",
       "        text-align: right;\n",
       "    }\n",
       "</style>\n",
       "<table border=\"1\" class=\"dataframe\">\n",
       "  <thead>\n",
       "    <tr style=\"text-align: right;\">\n",
       "      <th></th>\n",
       "      <th>sentID</th>\n",
       "      <th>Word</th>\n",
       "      <th>Tag</th>\n",
       "      <th>filename</th>\n",
       "      <th>covid_data</th>\n",
       "    </tr>\n",
       "  </thead>\n",
       "  <tbody>\n",
       "    <tr>\n",
       "      <th>0</th>\n",
       "      <td>0</td>\n",
       "      <td>Từ</td>\n",
       "      <td>O</td>\n",
       "      <td>test_word.conll</td>\n",
       "      <td>True</td>\n",
       "    </tr>\n",
       "    <tr>\n",
       "      <th>1</th>\n",
       "      <td>0</td>\n",
       "      <td>24</td>\n",
       "      <td>B-DATE</td>\n",
       "      <td>test_word.conll</td>\n",
       "      <td>True</td>\n",
       "    </tr>\n",
       "    <tr>\n",
       "      <th>2</th>\n",
       "      <td>0</td>\n",
       "      <td>-</td>\n",
       "      <td>I-DATE</td>\n",
       "      <td>test_word.conll</td>\n",
       "      <td>True</td>\n",
       "    </tr>\n",
       "    <tr>\n",
       "      <th>3</th>\n",
       "      <td>0</td>\n",
       "      <td>-</td>\n",
       "      <td>I-DATE</td>\n",
       "      <td>test_word.conll</td>\n",
       "      <td>True</td>\n",
       "    </tr>\n",
       "    <tr>\n",
       "      <th>4</th>\n",
       "      <td>0</td>\n",
       "      <td>-</td>\n",
       "      <td>I-DATE</td>\n",
       "      <td>test_word.conll</td>\n",
       "      <td>True</td>\n",
       "    </tr>\n",
       "  </tbody>\n",
       "</table>\n",
       "</div>"
      ],
      "text/plain": [
       "   sentID Word     Tag         filename  covid_data\n",
       "0       0   Từ       O  test_word.conll        True\n",
       "1       0   24  B-DATE  test_word.conll        True\n",
       "2       0    -  I-DATE  test_word.conll        True\n",
       "3       0    -  I-DATE  test_word.conll        True\n",
       "4       0    -  I-DATE  test_word.conll        True"
      ]
     },
     "execution_count": 46,
     "metadata": {},
     "output_type": "execute_result"
    }
   ],
   "source": [
    "merge_train_df.head()"
   ]
  },
  {
   "cell_type": "markdown",
   "id": "305f2003",
   "metadata": {},
   "source": [
    "## Preprocess Vin Covida dataset"
   ]
  },
  {
   "cell_type": "code",
   "execution_count": 11,
   "id": "47065526",
   "metadata": {},
   "outputs": [
    {
     "name": "stdout",
     "output_type": "stream",
     "text": [
      "108354\n",
      "set()\n",
      "data/covid_test_word.csv\n",
      "275895\n",
      "set()\n",
      "data/covid_train_word.csv\n",
      "347221\n",
      "set()\n",
      "data/covid_dev_word.csv\n"
     ]
    }
   ],
   "source": [
    "import pandas as pd\n",
    "from glob import glob\n",
    "import os\n",
    "\n",
    "df = pd.read_csv('data/covid_train_word.csv', index_col=0)\n",
    "df.head(50)\n",
    "\n",
    "\n",
    "\n",
    "CONLL_dir = 'data/PhoNER_COVID19/data/word'\n",
    "all_data = []\n",
    "wrong_fn = []\n",
    "sentence_id = 0\n",
    "\n",
    "for fn in glob(f'{CONLL_dir}/*.conll'):\n",
    "    f = open(fn, 'r')\n",
    "    lines = f.readlines()\n",
    "    for line in lines:\n",
    "        line = line.strip()\n",
    "        if line:\n",
    "            data = line.split()\n",
    "            try:\n",
    "                word = data[0]\n",
    "                tag = data[1]\n",
    "                if '_' not in word:\n",
    "                    all_data.append({\n",
    "                        'sentID': sentence_id,\n",
    "                        'Word': word,\n",
    "                        'Tag': tag,\n",
    "                        'filename': fn.split('/')[-1],\n",
    "                        'covid_data': True\n",
    "                    })\n",
    "                else:\n",
    "                    words = word.split('_')\n",
    "                    for i, word in enumerate(words):\n",
    "                        if i > 0 and tag != 'O':\n",
    "                            all_data.append({\n",
    "                                'sentID': sentence_id,\n",
    "                                'Word': word,\n",
    "                                'Tag': 'I-' + tag[2:],\n",
    "                                'filename': fn.split('/')[-1],\n",
    "                                'covid_data': True\n",
    "                            })\n",
    "                        else:\n",
    "                            all_data.append({\n",
    "                                'sentID': sentence_id,\n",
    "                                'Word': word,\n",
    "                                'Tag': tag,\n",
    "                                'filename': fn.split('/')[-1],\n",
    "                                'covid_data': True\n",
    "                            })\n",
    "            except:\n",
    "                wrong_fn.append(fn)\n",
    "        else:\n",
    "            sentence_id += 1\n",
    "            \n",
    "    print(len(all_data))\n",
    "    print(set(wrong_fn))\n",
    "    df = pd.DataFrame(all_data)\n",
    "    csv_name = 'data/covid_{}.csv'.format(os.path.basename(fn).split('.')[0])\n",
    "    print(csv_name)\n",
    "    df.to_csv(csv_name)    "
   ]
  }
 ],
 "metadata": {
  "kernelspec": {
   "display_name": "tf_env",
   "language": "python",
   "name": "tf_env"
  },
  "language_info": {
   "codemirror_mode": {
    "name": "ipython",
    "version": 3
   },
   "file_extension": ".py",
   "mimetype": "text/x-python",
   "name": "python",
   "nbconvert_exporter": "python",
   "pygments_lexer": "ipython3",
   "version": "3.7.10"
  }
 },
 "nbformat": 4,
 "nbformat_minor": 5
}
